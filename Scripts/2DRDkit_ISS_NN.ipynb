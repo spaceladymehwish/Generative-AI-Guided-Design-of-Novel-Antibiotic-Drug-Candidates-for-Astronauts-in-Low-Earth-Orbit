{
  "cells": [
    {
      "cell_type": "code",
      "execution_count": 1,
      "metadata": {
        "id": "b-DFZAeyVV5J"
      },
      "outputs": [],
      "source": [
        "import pandas as pd\n",
        "\n",
        "# Replace with your actual CSV file path\n",
        "external_df = pd.read_csv(\"3_E.bugandensis_ISS_2DRDKit_scaled.csv\")\n"
      ]
    },
    {
      "cell_type": "code",
      "execution_count": 2,
      "metadata": {
        "id": "9Fki7sNRVa-f"
      },
      "outputs": [],
      "source": [
        "# If your CSV has labels\n",
        "external_X = external_df.drop(\"Values\", axis=1)\n",
        "external_y = external_df[\"Values\"]"
      ]
    },
    {
      "cell_type": "code",
      "execution_count": null,
      "metadata": {
        "colab": {
          "base_uri": "https://localhost:8080/"
        },
        "id": "LETjkGDwW-mk",
        "outputId": "84905dc2-6116-4bcd-b748-afa9920cd715"
      },
      "outputs": [],
      "source": [
        "import torch\n",
        "import torch.nn as nn\n",
        "\n",
        "class ImprovedMolecularNN(nn.Module):\n",
        "    def __init__(self, input_dim):\n",
        "        super(ImprovedMolecularNN, self).__init__()\n",
        "        self.fc1 = nn.Linear(input_dim, 512)\n",
        "        self.bn1 = nn.BatchNorm1d(512)\n",
        "        self.fc2 = nn.Linear(512, 256)\n",
        "        self.bn2 = nn.BatchNorm1d(256)\n",
        "        self.fc3 = nn.Linear(256, 128)\n",
        "        self.bn3 = nn.BatchNorm1d(128)\n",
        "        self.fc4 = nn.Linear(128, 64)\n",
        "        self.bn4 = nn.BatchNorm1d(64)\n",
        "        self.fc5 = nn.Linear(64, 1)\n",
        "\n",
        "        self.leaky_relu = nn.LeakyReLU(0.1)\n",
        "        self.dropout = nn.Dropout(0.4)\n",
        "        self.sigmoid = nn.Sigmoid()\n",
        "\n",
        "    def forward(self, x):\n",
        "        x = self.leaky_relu(self.bn1(self.fc1(x)))\n",
        "        x = self.dropout(x)\n",
        "        x = self.leaky_relu(self.bn2(self.fc2(x)))\n",
        "        x = self.dropout(x)\n",
        "        x = self.leaky_relu(self.bn3(self.fc3(x)))\n",
        "        x = self.dropout(x)\n",
        "        x = self.leaky_relu(self.bn4(self.fc4(x)))\n",
        "        x = self.sigmoid(self.fc5(x))\n",
        "        return x\n",
        "\n",
        "input_dim = 140  # The model was trained with 140 features\n",
        "\n",
        "# Load the model using torch.load\n",
        "model = ImprovedMolecularNN(input_dim)  # Now input_dim is defined\n",
        "model.load_state_dict(torch.load(\"4_2D rdkit best nn_model.pth\"), strict=False) # strict=False allows loading even with missing keys"
      ]
    },
    {
      "cell_type": "code",
      "execution_count": 4,
      "metadata": {
        "id": "0fxC1UgFXr0F"
      },
      "outputs": [],
      "source": [
        "# Assuming 'external_X' is your external data as a Pandas DataFrame\n",
        "external_X_tensor = torch.tensor(external_X.values, dtype=torch.float32) # Convert to tensor\n",
        "\n",
        "model.eval()  # Set the model to evaluation mode\n",
        "with torch.no_grad():  # Disable gradient calculations during inference\n",
        "    predictions = model(external_X_tensor)  # Get predictions\n",
        "\n",
        "# Convert predictions to numpy and apply threshold (if needed for binary classification)\n",
        "predictions = predictions.numpy()\n",
        "predictions = (predictions >= 0.5).astype(int) # Optional thresholding for binary classification"
      ]
    },
    {
      "cell_type": "code",
      "execution_count": null,
      "metadata": {
        "colab": {
          "base_uri": "https://localhost:8080/"
        },
        "id": "K1FOtVabVhwP",
        "outputId": "1185a22d-ad1a-493f-85c6-6af0eaa6a7b2"
      },
      "outputs": [],
      "source": [
        "#predictions = model.predict(external_X)\n",
        "\n",
        "# If labels are available, evaluate performance\n",
        "from sklearn.metrics import accuracy_score, classification_report\n",
        "\n",
        "print(\"Accuracy:\", accuracy_score(external_y, predictions))\n",
        "print(classification_report(external_y, predictions))\n"
      ]
    },
    {
      "cell_type": "code",
      "execution_count": null,
      "metadata": {
        "colab": {
          "base_uri": "https://localhost:8080/"
        },
        "id": "bg5PtyZiKuC0",
        "outputId": "a5fed203-0d14-4d8f-a999-8a2066d63e22"
      },
      "outputs": [],
      "source": [
        "# prompt: calculate sensitivity\n",
        "\n",
        "from sklearn.metrics import confusion_matrix\n",
        "\n",
        "# Calculate the confusion matrix\n",
        "tn, fp, fn, tp = confusion_matrix(external_y, predictions).ravel()\n",
        "\n",
        "# Calculate sensitivity (True Positive Rate)\n",
        "sensitivity = tp / (tp + fn)\n",
        "\n",
        "print(\"Sensitivity:\", sensitivity)\n"
      ]
    },
    {
      "cell_type": "code",
      "execution_count": null,
      "metadata": {
        "colab": {
          "base_uri": "https://localhost:8080/"
        },
        "id": "NDmZyZ9gKyQe",
        "outputId": "91fb267e-8d37-44bc-d794-7ccd86aff775"
      },
      "outputs": [],
      "source": [
        "# prompt: calculate secificity\n",
        "\n",
        "# Calculate specificity (True Negative Rate)\n",
        "specificity = tn / (tn + fp)\n",
        "\n",
        "print(\"Specificity:\", specificity)"
      ]
    },
    {
      "cell_type": "code",
      "execution_count": null,
      "metadata": {
        "colab": {
          "base_uri": "https://localhost:8080/"
        },
        "id": "bQrt2gP_K3KQ",
        "outputId": "55b508f9-0523-4c20-8e27-0ccb94640b2f"
      },
      "outputs": [],
      "source": [
        "# prompt: calculate accuracy\n",
        "\n",
        "# Assuming 'external_y' are your true labels as a Pandas Series or NumPy array\n",
        "# Assuming 'predictions' are your model's predictions (after thresholding if binary)\n",
        "\n",
        "print(\"Accuracy:\", accuracy_score(external_y, predictions))\n",
        "print(classification_report(external_y, predictions))\n",
        "\n",
        "# Calculate the confusion matrix\n",
        "tn, fp, fn, tp = confusion_matrix(external_y, predictions).ravel()\n",
        "\n",
        "# Calculate sensitivity (True Positive Rate)\n",
        "sensitivity = tp / (tp + fn)\n",
        "\n",
        "print(\"Sensitivity:\", sensitivity)\n",
        "\n",
        "# Calculate specificity (True Negative Rate)\n",
        "specificity = tn / (tn + fp)\n",
        "\n",
        "print(\"Specificity:\", specificity)"
      ]
    },
    {
      "cell_type": "code",
      "execution_count": null,
      "metadata": {
        "colab": {
          "base_uri": "https://localhost:8080/",
          "height": 472
        },
        "id": "w5zv1b5SX8EV",
        "outputId": "9bd592c3-da6e-4cd1-fe09-88360d744aa2"
      },
      "outputs": [],
      "source": [
        "# prompt: roc auc curve\n",
        "from sklearn.metrics import roc_curve, auc\n",
        "import matplotlib.pyplot as plt\n",
        "\n",
        "# Assuming you have y_test_np and y_pred_test from your code\n",
        "fpr, tpr, thresholds = roc_curve(external_y, predictions)\n",
        "roc_auc = auc(fpr, tpr)\n",
        "\n",
        "plt.figure()\n",
        "plt.plot(fpr, tpr, color='darkorange', lw=2, label='ROC curve (area = %0.2f)' % roc_auc)\n",
        "plt.plot([0, 1], [0, 1], color='navy', lw=2, linestyle='--')\n",
        "plt.xlim([0.0, 1.0])\n",
        "plt.ylim([0.0, 1.05])\n",
        "plt.xlabel('False Positive Rate')\n",
        "plt.ylabel('True Positive Rate')\n",
        "plt.title('Receiver Operating Characteristic')\n",
        "plt.legend(loc=\"lower right\")\n",
        "plt.show()\n"
      ]
    }
  ],
  "metadata": {
    "accelerator": "TPU",
    "colab": {
      "gpuType": "V28",
      "provenance": []
    },
    "kernelspec": {
      "display_name": "Python 3",
      "name": "python3"
    },
    "language_info": {
      "name": "python"
    }
  },
  "nbformat": 4,
  "nbformat_minor": 0
}
