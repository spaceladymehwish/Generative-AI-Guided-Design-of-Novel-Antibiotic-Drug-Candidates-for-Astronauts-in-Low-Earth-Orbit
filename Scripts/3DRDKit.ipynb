{
  "cells": [
    {
      "cell_type": "code",
      "execution_count": null,
      "metadata": {
        "colab": {
          "base_uri": "https://localhost:8080/"
        },
        "id": "B0F12MkUk-ox",
        "outputId": "e5333a0b-671c-46a1-8da3-b0c79012a8b1"
      },
      "outputs": [],
      "source": [
        "pip install rdkit"
      ]
    },
    {
      "cell_type": "code",
      "execution_count": 1,
      "metadata": {
        "id": "QzaYo2-dCDkJ"
      },
      "outputs": [],
      "source": [
        "from rdkit import Chem\n",
        "from rdkit.Chem import AllChem\n",
        "from rdkit.Chem import Descriptors3D\n",
        "import pandas as pd"
      ]
    },
    {
      "cell_type": "code",
      "execution_count": 2,
      "metadata": {
        "id": "1v8_0unECIqo"
      },
      "outputs": [],
      "source": [
        "def calculate_all_complete_3d_descriptors(input_sdf, output_csv):\n",
        "    \"\"\"\n",
        "    Calculate all 3D descriptors using CalcMolDescriptors3D and save them with molecule properties to a CSV file.\n",
        "\n",
        "    Parameters:\n",
        "        input_sdf (str): Path to the input SDF file.\n",
        "        output_csv (str): Path to the output CSV file.\n",
        "    \"\"\"\n",
        "    # Load molecules from the SDF file\n",
        "    suppl = Chem.SDMolSupplier(input_sdf, removeHs=False)\n",
        "    data = []\n",
        "\n",
        "    for mol in suppl:\n",
        "        if mol is None:\n",
        "            continue  # Skip invalid molecules\n",
        "\n",
        "        # Extract properties from the SDF file\n",
        "        properties = mol.GetPropsAsDict()\n",
        "\n",
        "        # Compute all 3D descriptors using CalcMolDescriptors3D\n",
        "        try:\n",
        "            descriptors = Descriptors3D.CalcMolDescriptors3D(mol)\n",
        "        except Exception as e:\n",
        "            print(f\"Failed to calculate 3D descriptors for a molecule: {e}\")\n",
        "            descriptors = {key: None for key in Descriptors3D.CalcMolDescriptors3D.__annotations__.keys()}\n",
        "\n",
        "        # Combine extracted properties with computed descriptors\n",
        "        row = {**properties, **descriptors}\n",
        "        data.append(row)\n",
        "\n",
        "    # Convert to DataFrame\n",
        "    df = pd.DataFrame(data)\n",
        "\n",
        "    # Save to CSV\n",
        "    df.to_csv(output_csv, index=False)\n",
        "    print(f\"3D descriptors and properties saved to {output_csv}\")\n"
      ]
    },
    {
      "cell_type": "code",
      "execution_count": null,
      "metadata": {
        "colab": {
          "base_uri": "https://localhost:8080/"
        },
        "id": "YLVluMhqCKoA",
        "outputId": "35a4b5e7-1d5c-4b9d-8b39-bcf729fa7007"
      },
      "outputs": [],
      "source": [
        "input_sdf_path = \"moe 3d structures from smiles.sdf\"  # Replace with your input SDF file path\n",
        "output_csv_path = \"output_complete_3d_descriptors.csv\"  # Replace with desired output CSV path\n",
        "calculate_all_complete_3d_descriptors(input_sdf_path, output_csv_path)"
      ]
    }
  ],
  "metadata": {
    "accelerator": "TPU",
    "colab": {
      "gpuType": "V28",
      "provenance": []
    },
    "kernelspec": {
      "display_name": "Python 3",
      "name": "python3"
    },
    "language_info": {
      "name": "python"
    }
  },
  "nbformat": 4,
  "nbformat_minor": 0
}
