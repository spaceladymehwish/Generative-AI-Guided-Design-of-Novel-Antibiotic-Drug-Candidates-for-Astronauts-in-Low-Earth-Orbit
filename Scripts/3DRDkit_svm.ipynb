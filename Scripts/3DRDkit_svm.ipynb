{
  "cells": [
    {
      "cell_type": "markdown",
      "metadata": {
        "id": "UjN8XXssi4NU"
      },
      "source": [
        "## **Importing Libraries**"
      ]
    },
    {
      "cell_type": "code",
      "execution_count": 1,
      "metadata": {
        "id": "DEME31NT9rIY"
      },
      "outputs": [],
      "source": [
        "%%capture\n",
        "!pip install mordred\n",
        "!pip install rdkit\n"
      ]
    },
    {
      "cell_type": "code",
      "execution_count": 2,
      "metadata": {
        "id": "SAwVl7Dc2u48"
      },
      "outputs": [],
      "source": [
        "# Importing Libraries\n",
        "import rdkit\n",
        "from rdkit import Chem\n",
        "from rdkit.Chem import Draw, PandasTools, AllChem\n",
        "\n",
        "import mordred\n",
        "from mordred import Calculator, descriptors\n"
      ]
    },
    {
      "cell_type": "code",
      "execution_count": 3,
      "metadata": {
        "id": "yYIbNmUbaizv"
      },
      "outputs": [],
      "source": [
        "import pandas as pd\n",
        "import numpy as np\n",
        "import seaborn as sns\n",
        "import matplotlib.pyplot as plt\n",
        "import warnings\n"
      ]
    },
    {
      "cell_type": "code",
      "execution_count": null,
      "metadata": {
        "id": "UnD8sqXTQJqC"
      },
      "outputs": [],
      "source": [
        "df = pd.read_csv('3DRDKit.csv')"
      ]
    },
    {
      "cell_type": "markdown",
      "metadata": {
        "id": "2UAwTOqCapqR"
      },
      "source": [
        "## **Building Machine Learning Model**"
      ]
    },
    {
      "cell_type": "code",
      "execution_count": 6,
      "metadata": {
        "id": "20R27GyTa578"
      },
      "outputs": [],
      "source": [
        "from sklearn.preprocessing import StandardScaler\n",
        "from sklearn.model_selection import train_test_split, cross_val_score\n",
        "from sklearn.linear_model import LinearRegression\n",
        "from sklearn.metrics import r2_score, mean_absolute_error\n",
        "import pandas as pd"
      ]
    },
    {
      "cell_type": "code",
      "execution_count": null,
      "metadata": {
        "id": "OyNX5a4Vak2M"
      },
      "outputs": [],
      "source": [
        "df_final = pd.read_csv('3DRDKit.csv')"
      ]
    },
    {
      "cell_type": "code",
      "execution_count": 8,
      "metadata": {
        "colab": {
          "base_uri": "https://localhost:8080/",
          "height": 256
        },
        "id": "umvXWqJOavhJ",
        "outputId": "6baa8190-4cb7-4191-f8c4-9dc8cae08e7b"
      },
      "outputs": [
        {
          "data": {
            "text/html": [
              "<div>\n",
              "<style scoped>\n",
              "    .dataframe tbody tr th:only-of-type {\n",
              "        vertical-align: middle;\n",
              "    }\n",
              "\n",
              "    .dataframe tbody tr th {\n",
              "        vertical-align: top;\n",
              "    }\n",
              "\n",
              "    .dataframe thead th {\n",
              "        text-align: right;\n",
              "    }\n",
              "</style>\n",
              "<table border=\"1\" class=\"dataframe\">\n",
              "  <thead>\n",
              "    <tr style=\"text-align: right;\">\n",
              "      <th></th>\n",
              "      <th>PMI1</th>\n",
              "      <th>PMI2</th>\n",
              "      <th>NPR1</th>\n",
              "      <th>NPR2</th>\n",
              "      <th>RadiusOfGyration</th>\n",
              "      <th>InertialShapeFactor</th>\n",
              "      <th>SpherocityIndex</th>\n",
              "      <th>PBF</th>\n",
              "      <th>values</th>\n",
              "    </tr>\n",
              "  </thead>\n",
              "  <tbody>\n",
              "    <tr>\n",
              "      <th>0</th>\n",
              "      <td>-0.416267</td>\n",
              "      <td>-0.260116</td>\n",
              "      <td>1.345511</td>\n",
              "      <td>-0.602951</td>\n",
              "      <td>-1.931896</td>\n",
              "      <td>0.585006</td>\n",
              "      <td>0.157481</td>\n",
              "      <td>-1.340883</td>\n",
              "      <td>1</td>\n",
              "    </tr>\n",
              "    <tr>\n",
              "      <th>1</th>\n",
              "      <td>-0.256620</td>\n",
              "      <td>-0.175355</td>\n",
              "      <td>0.052397</td>\n",
              "      <td>-0.147606</td>\n",
              "      <td>-0.548179</td>\n",
              "      <td>-0.046893</td>\n",
              "      <td>0.233452</td>\n",
              "      <td>-0.067527</td>\n",
              "      <td>1</td>\n",
              "    </tr>\n",
              "    <tr>\n",
              "      <th>2</th>\n",
              "      <td>0.885918</td>\n",
              "      <td>0.014085</td>\n",
              "      <td>2.078184</td>\n",
              "      <td>-1.046947</td>\n",
              "      <td>0.087002</td>\n",
              "      <td>-0.138292</td>\n",
              "      <td>2.132503</td>\n",
              "      <td>2.278375</td>\n",
              "      <td>1</td>\n",
              "    </tr>\n",
              "    <tr>\n",
              "      <th>3</th>\n",
              "      <td>-0.174179</td>\n",
              "      <td>-0.106656</td>\n",
              "      <td>-0.306930</td>\n",
              "      <td>-0.348407</td>\n",
              "      <td>-0.117882</td>\n",
              "      <td>-0.080889</td>\n",
              "      <td>-0.945960</td>\n",
              "      <td>-1.007047</td>\n",
              "      <td>1</td>\n",
              "    </tr>\n",
              "    <tr>\n",
              "      <th>4</th>\n",
              "      <td>-0.082943</td>\n",
              "      <td>-0.000443</td>\n",
              "      <td>-0.475669</td>\n",
              "      <td>0.449613</td>\n",
              "      <td>0.191616</td>\n",
              "      <td>-0.093591</td>\n",
              "      <td>-0.164230</td>\n",
              "      <td>0.281570</td>\n",
              "      <td>1</td>\n",
              "    </tr>\n",
              "  </tbody>\n",
              "</table>\n",
              "</div>"
            ],
            "text/plain": [
              "       PMI1      PMI2      NPR1      NPR2  RadiusOfGyration  \\\n",
              "0 -0.416267 -0.260116  1.345511 -0.602951         -1.931896   \n",
              "1 -0.256620 -0.175355  0.052397 -0.147606         -0.548179   \n",
              "2  0.885918  0.014085  2.078184 -1.046947          0.087002   \n",
              "3 -0.174179 -0.106656 -0.306930 -0.348407         -0.117882   \n",
              "4 -0.082943 -0.000443 -0.475669  0.449613          0.191616   \n",
              "\n",
              "   InertialShapeFactor  SpherocityIndex       PBF  values  \n",
              "0             0.585006         0.157481 -1.340883       1  \n",
              "1            -0.046893         0.233452 -0.067527       1  \n",
              "2            -0.138292         2.132503  2.278375       1  \n",
              "3            -0.080889        -0.945960 -1.007047       1  \n",
              "4            -0.093591        -0.164230  0.281570       1  "
            ]
          },
          "execution_count": 8,
          "metadata": {},
          "output_type": "execute_result"
        }
      ],
      "source": [
        "df_final.head()"
      ]
    },
    {
      "cell_type": "code",
      "execution_count": null,
      "metadata": {
        "colab": {
          "base_uri": "https://localhost:8080/"
        },
        "id": "MNFcKDSYIbsX",
        "outputId": "98b24307-a8f6-475b-df6e-0dd8cba18920"
      },
      "outputs": [],
      "source": [
        "df_final.shape"
      ]
    },
    {
      "cell_type": "code",
      "execution_count": 10,
      "metadata": {
        "id": "dOg-0DfnqIpZ"
      },
      "outputs": [],
      "source": [
        "y = df_final['values']"
      ]
    },
    {
      "cell_type": "code",
      "execution_count": 11,
      "metadata": {
        "id": "mfk9CkmC5etu"
      },
      "outputs": [],
      "source": [
        "X = df_final.drop(['values'], axis=1)"
      ]
    },
    {
      "cell_type": "code",
      "execution_count": null,
      "metadata": {
        "colab": {
          "base_uri": "https://localhost:8080/",
          "height": 566
        },
        "id": "fCMnZ7mtSQDN",
        "outputId": "2eb4a07d-b42e-4777-9b76-30dda6e20cef"
      },
      "outputs": [],
      "source": [
        "# prompt: count each class\n",
        "\n",
        "import pandas as pd\n",
        "import matplotlib.pyplot as plt\n",
        "import seaborn as sns\n",
        "\n",
        "# Count each class and store in a variable\n",
        "class_counts = df_final['values'].value_counts()\n",
        "\n",
        "# Print the class counts\n",
        "print(class_counts)\n",
        "\n",
        "# Create a countplot\n",
        "plt.figure(figsize=(5, 4))\n",
        "sns.countplot(x=df_final[\"values\"], palette=\"coolwarm\")\n",
        "plt.title(\"Class Distribution\")\n",
        "plt.xlabel(\"Class\")\n",
        "plt.ylabel(\"Count\")\n",
        "plt.show()\n"
      ]
    },
    {
      "cell_type": "code",
      "execution_count": 13,
      "metadata": {
        "id": "1cazQVyBby-z"
      },
      "outputs": [],
      "source": [
        "X_train, X_test, y_train, y_test = train_test_split(X, y, test_size=0.20, stratify=y, random_state=45)"
      ]
    },
    {
      "cell_type": "code",
      "execution_count": null,
      "metadata": {
        "colab": {
          "base_uri": "https://localhost:8080/"
        },
        "id": "AeQRntYYKxyo",
        "outputId": "ea22333e-bbdb-4973-eadc-9a96d311ed82"
      },
      "outputs": [],
      "source": [
        "X_test.shape"
      ]
    },
    {
      "cell_type": "code",
      "execution_count": null,
      "metadata": {
        "colab": {
          "base_uri": "https://localhost:8080/"
        },
        "id": "VxLAfW3RuhHV",
        "outputId": "aaed5be4-ecea-477c-8433-8bdafa5d5291"
      },
      "outputs": [],
      "source": [
        "X_train.shape"
      ]
    },
    {
      "cell_type": "code",
      "execution_count": null,
      "metadata": {
        "colab": {
          "base_uri": "https://localhost:8080/"
        },
        "id": "ruHenmRFumDX",
        "outputId": "4241ded1-11db-4711-e974-fa7dd4490422"
      },
      "outputs": [],
      "source": [
        "y_train.shape"
      ]
    },
    {
      "cell_type": "code",
      "execution_count": null,
      "metadata": {
        "colab": {
          "base_uri": "https://localhost:8080/"
        },
        "id": "TPR0dnjGupG_",
        "outputId": "634d397a-4fd7-4ba8-ed28-724d7dff58f4"
      },
      "outputs": [],
      "source": [
        "y_test.shape"
      ]
    },
    {
      "cell_type": "markdown",
      "metadata": {
        "id": "BDyYCMI-JN9n"
      },
      "source": [
        "# **Data Dimensionality**"
      ]
    },
    {
      "cell_type": "code",
      "execution_count": 19,
      "metadata": {
        "id": "kb813dbXGT8u"
      },
      "outputs": [],
      "source": [
        "from sklearn.manifold import TSNE\n",
        "X_tsne = TSNE(n_components=2, random_state=42).fit_transform(X)\n"
      ]
    },
    {
      "cell_type": "code",
      "execution_count": null,
      "metadata": {
        "colab": {
          "base_uri": "https://localhost:8080/",
          "height": 564
        },
        "id": "t4v35g9UHwmj",
        "outputId": "334683b3-3b40-4809-d733-a2d2b7accfc9"
      },
      "outputs": [],
      "source": [
        "# Create scatter plot\n",
        "plt.figure(figsize=(8,6))\n",
        "sns.scatterplot(x=X_tsne[:,0], y=X_tsne[:,1], hue=y, palette=\"coolwarm\", alpha=0.7)\n",
        "plt.title(\"t-SNE Visualization of Data\")\n",
        "plt.xlabel(\"t-SNE Component 1\")\n",
        "plt.ylabel(\"t-SNE Component 2\")\n",
        "plt.legend(title=\"Class\")\n",
        "plt.show()"
      ]
    },
    {
      "cell_type": "markdown",
      "metadata": {
        "id": "_jXlGCeEJU9O"
      },
      "source": [
        "# **Linearity and non-linearity of data**"
      ]
    },
    {
      "cell_type": "code",
      "execution_count": null,
      "metadata": {
        "colab": {
          "base_uri": "https://localhost:8080/"
        },
        "id": "-lixYkjfvwHy",
        "outputId": "a94e157c-b79b-4a82-8514-874b76d68399"
      },
      "outputs": [],
      "source": [
        "# prompt: train and test logistic model\n",
        "\n",
        "from sklearn.linear_model import LogisticRegression\n",
        "from sklearn.metrics import accuracy_score\n",
        "\n",
        "# Train logistic model\n",
        "logistic_model = LogisticRegression()\n",
        "logistic_model.fit(X_train, y_train)\n",
        "logistic_predictions = logistic_model.predict(X_test)\n",
        "\n",
        "# Evaluate the model\n",
        "accuracy = accuracy_score(y_test, logistic_predictions)\n",
        "print(f\"Logistic Regression Accuracy: {accuracy}\")\n"
      ]
    },
    {
      "cell_type": "code",
      "execution_count": null,
      "metadata": {
        "colab": {
          "base_uri": "https://localhost:8080/"
        },
        "id": "mQWE6-qd76hB",
        "outputId": "e1af55b0-b502-4cee-9738-3f589f2296c9"
      },
      "outputs": [],
      "source": [
        "from sklearn.svm import SVC\n",
        "from sklearn.metrics import accuracy_score\n",
        "\n",
        "# Train linear SVM\n",
        "svm_linear = SVC(kernel=\"linear\")\n",
        "svm_linear.fit(X_train, y_train)\n",
        "linear_acc = accuracy_score(y_test, svm_linear.predict(X_test))\n",
        "\n",
        "# Train non-linear SVM (RBF)\n",
        "svm_rbf = SVC(kernel=\"rbf\")\n",
        "svm_rbf.fit(X_train, y_train)\n",
        "rbf_acc = accuracy_score(y_test, svm_rbf.predict(X_test))\n",
        "\n",
        "print(\"Linear SVM Accuracy:\", linear_acc)\n",
        "print(\"RBF SVM Accuracy:\", rbf_acc)\n"
      ]
    },
    {
      "cell_type": "code",
      "execution_count": null,
      "metadata": {
        "colab": {
          "base_uri": "https://localhost:8080/"
        },
        "id": "g2T1QP5siZR_",
        "outputId": "e48199e6-248a-4e6c-e47a-c7af4c9fa8db"
      },
      "outputs": [],
      "source": [
        "from sklearn.svm import SVC\n",
        "from sklearn.model_selection import train_test_split\n",
        "from sklearn.metrics import accuracy_score, classification_report\n",
        "\n",
        "\n",
        "svm_model2 = SVC(kernel='poly', degree=3, C=1.0, gamma='scale')\n",
        "svm_model2.fit(X_train, y_train)\n",
        "\n",
        "# 📌 Predictions & Evaluation\n",
        "y_pred = svm_model2.predict(X_test)\n",
        "print(f\"Accuracy: {accuracy_score(y_test, y_pred):.4f}\")\n",
        "print(\"\\nClassification Report:\\n\", classification_report(y_test, y_pred))"
      ]
    },
    {
      "cell_type": "code",
      "execution_count": null,
      "metadata": {
        "colab": {
          "base_uri": "https://localhost:8080/"
        },
        "id": "VM7R6ZZiAd0U",
        "outputId": "458ac1c0-c9f5-40e2-9f3a-0f80b0c8d79c"
      },
      "outputs": [],
      "source": [
        "from sklearn.svm import SVC\n",
        "from sklearn.model_selection import train_test_split\n",
        "from sklearn.metrics import accuracy_score, classification_report\n",
        "\n",
        "\n",
        "svm_model2 = SVC(kernel='poly', degree=6, C=1.0, gamma='scale')\n",
        "svm_model2.fit(X_train, y_train)\n",
        "\n",
        "# 📌 Predictions & Evaluation\n",
        "y_pred = svm_model2.predict(X_test)\n",
        "print(f\"Accuracy: {accuracy_score(y_test, y_pred):.4f}\")\n",
        "print(\"\\nClassification Report:\\n\", classification_report(y_test, y_pred))"
      ]
    },
    {
      "cell_type": "markdown",
      "metadata": {
        "id": "F8_gC-6AKdVx"
      },
      "source": [
        "# **Non-Linear, High Dimensional Data so select best features and optimize SVM with RBF**"
      ]
    },
    {
      "cell_type": "code",
      "execution_count": null,
      "metadata": {
        "colab": {
          "base_uri": "https://localhost:8080/"
        },
        "id": "_uvYhkckUihP",
        "outputId": "09e2dc49-9641-4a0e-fb5f-ad31435f4e18"
      },
      "outputs": [],
      "source": [
        "from sklearn.model_selection import GridSearchCV\n",
        "from sklearn.svm import SVC\n",
        "\n",
        "param_grid = {\n",
        "    'C': [0.1, 1, 10],\n",
        "    'gamma': ['scale', 'auto', 0.1, 1],\n",
        "    'kernel': ['rbf']\n",
        "}\n",
        "\n",
        "grid = GridSearchCV(SVC(), param_grid, cv=5)\n",
        "grid.fit(X_train, y_train)\n",
        "\n",
        "print(f\"Best Parameters: {grid.best_params_}\")\n"
      ]
    },
    {
      "cell_type": "code",
      "execution_count": null,
      "metadata": {
        "colab": {
          "base_uri": "https://localhost:8080/"
        },
        "id": "RNWSKJTrxHvb",
        "outputId": "27e93230-095e-41e5-e109-bcc84cd1ae08"
      },
      "outputs": [],
      "source": [
        "from sklearn.svm import SVC\n",
        "from sklearn.model_selection import train_test_split\n",
        "from sklearn.metrics import accuracy_score, classification_report\n",
        "\n",
        "# 📌 Train SVM with RBF Kernel\n",
        "svm_model = SVC(kernel='rbf', C=10, gamma=1, probability=True)\n",
        "svm_model.fit(X_train, y_train)\n",
        "\n",
        "# 📌 Predictions & Evaluation\n",
        "y_pred = svm_model.predict(X_test)\n",
        "print(f\"Accuracy: {accuracy_score(y_test, y_pred):.4f}\")\n",
        "print(\"\\nClassification Report:\\n\", classification_report(y_test, y_pred))"
      ]
    },
    {
      "cell_type": "code",
      "execution_count": null,
      "metadata": {
        "colab": {
          "base_uri": "https://localhost:8080/"
        },
        "id": "hLFtzL_zKJCr",
        "outputId": "6136dca7-b3ad-47f8-b35a-fed730b032d6"
      },
      "outputs": [],
      "source": [
        "accuracy = accuracy_score(y_test, y_pred)\n",
        "print(f\"\\nAccuracy: {accuracy:.4f}\")\n",
        "\n",
        "print(\"\\nClassification Report:\")\n",
        "print(classification_report(y_test, y_pred))"
      ]
    },
    {
      "cell_type": "code",
      "execution_count": 29,
      "metadata": {
        "id": "r1J5q4FpNc1O"
      },
      "outputs": [],
      "source": [
        "from sklearn.model_selection import StratifiedKFold\n",
        "\n",
        "skf = StratifiedKFold(n_splits=5, shuffle=True, random_state=42)"
      ]
    },
    {
      "cell_type": "code",
      "execution_count": null,
      "metadata": {
        "colab": {
          "base_uri": "https://localhost:8080/"
        },
        "id": "1Ii5igFP3LvX",
        "outputId": "37ab0015-43a1-4307-9ca3-ca34ea6e700f"
      },
      "outputs": [],
      "source": [
        "from sklearn.model_selection import StratifiedKFold, cross_val_score\n",
        "\n",
        "cv_scores = cross_val_score(svm_model, X_train, y_train, cv=skf, scoring='accuracy') # Example using accuracy\n",
        "print(\"Cross-validation scores:\", cv_scores)\n",
        "print(\"Mean cross-validation score:\", cv_scores.mean())"
      ]
    },
    {
      "cell_type": "code",
      "execution_count": null,
      "metadata": {
        "colab": {
          "base_uri": "https://localhost:8080/",
          "height": 564
        },
        "id": "kU014ZQVEHJs",
        "outputId": "bb5aa597-288d-4911-846e-30da836a6c73"
      },
      "outputs": [],
      "source": [
        "# prompt: confusion matrix\n",
        "\n",
        "from sklearn.metrics import confusion_matrix\n",
        "import seaborn as sns\n",
        "import matplotlib.pyplot as plt\n",
        "\n",
        "# Assuming y_test and y_pred are defined from your model's predictions\n",
        "cm = confusion_matrix(y_test, y_pred)\n",
        "\n",
        "plt.figure(figsize=(8, 6))\n",
        "sns.heatmap(cm, annot=True, fmt=\"d\", cmap=\"Blues\",\n",
        "            xticklabels=['Predicted 0', 'Predicted 1'],\n",
        "            yticklabels=['Actual 0', 'Actual 1'])\n",
        "plt.title('Confusion Matrix')\n",
        "plt.xlabel('Predicted')\n",
        "plt.ylabel('Actual')\n",
        "plt.show()\n"
      ]
    },
    {
      "cell_type": "code",
      "execution_count": null,
      "metadata": {
        "colab": {
          "base_uri": "https://localhost:8080/"
        },
        "id": "2ir_eehnKh1m",
        "outputId": "a7677239-43ad-4253-a765-a4a6bf62a5cb"
      },
      "outputs": [],
      "source": [
        "from sklearn.metrics import f1_score\n",
        "# Calculate the F1 score\n",
        "f1 = f1_score(y_test, y_pred)\n",
        "print(f\"F1 Score: {f1:.4f}\")"
      ]
    },
    {
      "cell_type": "code",
      "execution_count": null,
      "metadata": {
        "colab": {
          "base_uri": "https://localhost:8080/",
          "height": 489
        },
        "id": "8rhmqgTdMZSP",
        "outputId": "b12beaed-78e9-4592-ac96-c2d661e5b7b5"
      },
      "outputs": [],
      "source": [
        "from sklearn.svm import SVC\n",
        "from sklearn.model_selection import train_test_split\n",
        "from sklearn.metrics import accuracy_score, classification_report, roc_curve, auc, roc_auc_score\n",
        "import matplotlib.pyplot as plt\n",
        "\n",
        "# Predict probabilities instead of class labels\n",
        "y_prob = svm_model.predict_proba(X_test)[:, 1]  # Probabilities for the positive class\n",
        "\n",
        "roc_auc = roc_auc_score(y_test, y_prob)\n",
        "print(f\"ROC-AUC Score: {roc_auc:.4f}\")\n",
        "\n",
        "# Compute ROC curve and ROC area\n",
        "fpr, tpr, thresholds = roc_curve(y_test, y_prob)\n",
        "roc_auc = auc(fpr, tpr)\n",
        "\n",
        "# Plot the ROC curve\n",
        "plt.figure()\n",
        "plt.plot(fpr, tpr, color='darkorange', lw=2, label='ROC curve (area = %0.2f)' % roc_auc)\n",
        "plt.plot([0, 1], [0, 1], color='navy', lw=2, linestyle='--')\n",
        "plt.xlim([0.0, 1.0])\n",
        "plt.ylim([0.0, 1.05])\n",
        "plt.xlabel('False Positive Rate')\n",
        "plt.ylabel('True Positive Rate')\n",
        "plt.title('Receiver Operating Characteristic')\n",
        "plt.legend(loc=\"lower right\")\n",
        "plt.show()"
      ]
    },
    {
      "cell_type": "code",
      "execution_count": 34,
      "metadata": {
        "colab": {
          "base_uri": "https://localhost:8080/"
        },
        "id": "SxJRnbUMKjaK",
        "outputId": "1be1786a-575e-434f-9da1-eceba587c5df"
      },
      "outputs": [
        {
          "data": {
            "text/plain": [
              "['3-3DRdkit_svm_model.pkl']"
            ]
          },
          "execution_count": 34,
          "metadata": {},
          "output_type": "execute_result"
        }
      ],
      "source": [
        "import joblib\n",
        "joblib.dump(svm_model, '3-3DRdkit_svm_model.pkl')"
      ]
    }
  ],
  "metadata": {
    "accelerator": "TPU",
    "colab": {
      "collapsed_sections": [
        "UjN8XXssi4NU",
        "2UAwTOqCapqR",
        "BDyYCMI-JN9n",
        "_jXlGCeEJU9O",
        "KS99uJ4xOp7V",
        "87cePTz1Ozoq"
      ],
      "gpuType": "V28",
      "provenance": []
    },
    "kernelspec": {
      "display_name": "base",
      "language": "python",
      "name": "python3"
    },
    "language_info": {
      "codemirror_mode": {
        "name": "ipython",
        "version": 3
      },
      "file_extension": ".py",
      "mimetype": "text/x-python",
      "name": "python",
      "nbconvert_exporter": "python",
      "pygments_lexer": "ipython3",
      "version": "3.9.7"
    }
  },
  "nbformat": 4,
  "nbformat_minor": 0
}
