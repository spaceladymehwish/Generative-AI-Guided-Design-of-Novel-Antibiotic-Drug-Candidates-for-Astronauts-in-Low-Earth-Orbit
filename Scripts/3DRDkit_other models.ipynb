{
  "cells": [
    {
      "cell_type": "markdown",
      "metadata": {
        "id": "UjN8XXssi4NU"
      },
      "source": [
        "## **Importing Libraries**"
      ]
    },
    {
      "cell_type": "code",
      "execution_count": 1,
      "metadata": {
        "id": "DEME31NT9rIY"
      },
      "outputs": [],
      "source": [
        "%%capture\n",
        "!pip install mordred\n",
        "!pip install rdkit\n"
      ]
    },
    {
      "cell_type": "code",
      "execution_count": 2,
      "metadata": {
        "id": "SAwVl7Dc2u48"
      },
      "outputs": [],
      "source": [
        "# Importing Libraries\n",
        "import rdkit\n",
        "from rdkit import Chem\n",
        "from rdkit.Chem import Draw, PandasTools, AllChem\n",
        "\n",
        "import mordred\n",
        "from mordred import Calculator, descriptors\n"
      ]
    },
    {
      "cell_type": "code",
      "execution_count": 3,
      "metadata": {
        "id": "yYIbNmUbaizv"
      },
      "outputs": [],
      "source": [
        "import pandas as pd\n",
        "import numpy as np\n",
        "import seaborn as sns\n",
        "import matplotlib.pyplot as plt\n",
        "import warnings"
      ]
    },
    {
      "cell_type": "code",
      "execution_count": null,
      "metadata": {
        "id": "UnD8sqXTQJqC"
      },
      "outputs": [],
      "source": [
        "df = pd.read_csv('3DRDKit.csv')"
      ]
    },
    {
      "cell_type": "markdown",
      "metadata": {
        "id": "2UAwTOqCapqR"
      },
      "source": [
        "## **Building Machine Learning Model**"
      ]
    },
    {
      "cell_type": "code",
      "execution_count": 5,
      "metadata": {
        "id": "20R27GyTa578"
      },
      "outputs": [],
      "source": [
        "from sklearn.preprocessing import StandardScaler\n",
        "from sklearn.model_selection import train_test_split, cross_val_score\n",
        "from sklearn.linear_model import LinearRegression\n",
        "from sklearn.metrics import r2_score, mean_absolute_error\n",
        "from sklearn.ensemble import RandomForestRegressor\n",
        "import pandas as pd"
      ]
    },
    {
      "cell_type": "code",
      "execution_count": 6,
      "metadata": {
        "colab": {
          "base_uri": "https://localhost:8080/",
          "height": 256
        },
        "id": "umvXWqJOavhJ",
        "outputId": "6dc9e213-e7d1-4542-c682-024f338141ce"
      },
      "outputs": [
        {
          "data": {
            "text/html": [
              "<div>\n",
              "<style scoped>\n",
              "    .dataframe tbody tr th:only-of-type {\n",
              "        vertical-align: middle;\n",
              "    }\n",
              "\n",
              "    .dataframe tbody tr th {\n",
              "        vertical-align: top;\n",
              "    }\n",
              "\n",
              "    .dataframe thead th {\n",
              "        text-align: right;\n",
              "    }\n",
              "</style>\n",
              "<table border=\"1\" class=\"dataframe\">\n",
              "  <thead>\n",
              "    <tr style=\"text-align: right;\">\n",
              "      <th></th>\n",
              "      <th>PMI1</th>\n",
              "      <th>PMI2</th>\n",
              "      <th>NPR1</th>\n",
              "      <th>NPR2</th>\n",
              "      <th>RadiusOfGyration</th>\n",
              "      <th>InertialShapeFactor</th>\n",
              "      <th>SpherocityIndex</th>\n",
              "      <th>PBF</th>\n",
              "      <th>values</th>\n",
              "    </tr>\n",
              "  </thead>\n",
              "  <tbody>\n",
              "    <tr>\n",
              "      <th>0</th>\n",
              "      <td>-0.416267</td>\n",
              "      <td>-0.260116</td>\n",
              "      <td>1.345511</td>\n",
              "      <td>-0.602951</td>\n",
              "      <td>-1.931896</td>\n",
              "      <td>0.585006</td>\n",
              "      <td>0.157481</td>\n",
              "      <td>-1.340883</td>\n",
              "      <td>1</td>\n",
              "    </tr>\n",
              "    <tr>\n",
              "      <th>1</th>\n",
              "      <td>-0.256620</td>\n",
              "      <td>-0.175355</td>\n",
              "      <td>0.052397</td>\n",
              "      <td>-0.147606</td>\n",
              "      <td>-0.548179</td>\n",
              "      <td>-0.046893</td>\n",
              "      <td>0.233452</td>\n",
              "      <td>-0.067527</td>\n",
              "      <td>1</td>\n",
              "    </tr>\n",
              "    <tr>\n",
              "      <th>2</th>\n",
              "      <td>0.885918</td>\n",
              "      <td>0.014085</td>\n",
              "      <td>2.078184</td>\n",
              "      <td>-1.046947</td>\n",
              "      <td>0.087002</td>\n",
              "      <td>-0.138292</td>\n",
              "      <td>2.132503</td>\n",
              "      <td>2.278375</td>\n",
              "      <td>1</td>\n",
              "    </tr>\n",
              "    <tr>\n",
              "      <th>3</th>\n",
              "      <td>-0.174179</td>\n",
              "      <td>-0.106656</td>\n",
              "      <td>-0.306930</td>\n",
              "      <td>-0.348407</td>\n",
              "      <td>-0.117882</td>\n",
              "      <td>-0.080889</td>\n",
              "      <td>-0.945960</td>\n",
              "      <td>-1.007047</td>\n",
              "      <td>1</td>\n",
              "    </tr>\n",
              "    <tr>\n",
              "      <th>4</th>\n",
              "      <td>-0.082943</td>\n",
              "      <td>-0.000443</td>\n",
              "      <td>-0.475669</td>\n",
              "      <td>0.449613</td>\n",
              "      <td>0.191616</td>\n",
              "      <td>-0.093591</td>\n",
              "      <td>-0.164230</td>\n",
              "      <td>0.281570</td>\n",
              "      <td>1</td>\n",
              "    </tr>\n",
              "  </tbody>\n",
              "</table>\n",
              "</div>"
            ],
            "text/plain": [
              "       PMI1      PMI2      NPR1      NPR2  RadiusOfGyration  \\\n",
              "0 -0.416267 -0.260116  1.345511 -0.602951         -1.931896   \n",
              "1 -0.256620 -0.175355  0.052397 -0.147606         -0.548179   \n",
              "2  0.885918  0.014085  2.078184 -1.046947          0.087002   \n",
              "3 -0.174179 -0.106656 -0.306930 -0.348407         -0.117882   \n",
              "4 -0.082943 -0.000443 -0.475669  0.449613          0.191616   \n",
              "\n",
              "   InertialShapeFactor  SpherocityIndex       PBF  values  \n",
              "0             0.585006         0.157481 -1.340883       1  \n",
              "1            -0.046893         0.233452 -0.067527       1  \n",
              "2            -0.138292         2.132503  2.278375       1  \n",
              "3            -0.080889        -0.945960 -1.007047       1  \n",
              "4            -0.093591        -0.164230  0.281570       1  "
            ]
          },
          "execution_count": 6,
          "metadata": {},
          "output_type": "execute_result"
        }
      ],
      "source": [
        "df.head()"
      ]
    },
    {
      "cell_type": "code",
      "execution_count": null,
      "metadata": {
        "colab": {
          "base_uri": "https://localhost:8080/",
          "height": 0
        },
        "id": "MNFcKDSYIbsX",
        "outputId": "2116cdc5-01fe-4c9e-d08d-1d0d453433af"
      },
      "outputs": [],
      "source": [
        "df.shape"
      ]
    },
    {
      "cell_type": "code",
      "execution_count": 8,
      "metadata": {
        "id": "dOg-0DfnqIpZ"
      },
      "outputs": [],
      "source": [
        "y = df['values']"
      ]
    },
    {
      "cell_type": "code",
      "execution_count": 9,
      "metadata": {
        "colab": {
          "base_uri": "https://localhost:8080/",
          "height": 444
        },
        "id": "5keVumJWpyxg",
        "outputId": "0366aef0-b1e7-43dd-e89d-a96de5c1f9d6"
      },
      "outputs": [
        {
          "data": {
            "text/html": [
              "<div>\n",
              "<style scoped>\n",
              "    .dataframe tbody tr th:only-of-type {\n",
              "        vertical-align: middle;\n",
              "    }\n",
              "\n",
              "    .dataframe tbody tr th {\n",
              "        vertical-align: top;\n",
              "    }\n",
              "\n",
              "    .dataframe thead th {\n",
              "        text-align: right;\n",
              "    }\n",
              "</style>\n",
              "<table border=\"1\" class=\"dataframe\">\n",
              "  <thead>\n",
              "    <tr style=\"text-align: right;\">\n",
              "      <th></th>\n",
              "      <th>PMI1</th>\n",
              "      <th>PMI2</th>\n",
              "      <th>NPR1</th>\n",
              "      <th>NPR2</th>\n",
              "      <th>RadiusOfGyration</th>\n",
              "      <th>InertialShapeFactor</th>\n",
              "      <th>SpherocityIndex</th>\n",
              "      <th>PBF</th>\n",
              "      <th>values</th>\n",
              "    </tr>\n",
              "  </thead>\n",
              "  <tbody>\n",
              "    <tr>\n",
              "      <th>0</th>\n",
              "      <td>-0.416267</td>\n",
              "      <td>-0.260116</td>\n",
              "      <td>1.345511</td>\n",
              "      <td>-0.602951</td>\n",
              "      <td>-1.931896</td>\n",
              "      <td>0.585006</td>\n",
              "      <td>0.157481</td>\n",
              "      <td>-1.340883</td>\n",
              "      <td>1</td>\n",
              "    </tr>\n",
              "    <tr>\n",
              "      <th>1</th>\n",
              "      <td>-0.256620</td>\n",
              "      <td>-0.175355</td>\n",
              "      <td>0.052397</td>\n",
              "      <td>-0.147606</td>\n",
              "      <td>-0.548179</td>\n",
              "      <td>-0.046893</td>\n",
              "      <td>0.233452</td>\n",
              "      <td>-0.067527</td>\n",
              "      <td>1</td>\n",
              "    </tr>\n",
              "    <tr>\n",
              "      <th>2</th>\n",
              "      <td>0.885918</td>\n",
              "      <td>0.014085</td>\n",
              "      <td>2.078184</td>\n",
              "      <td>-1.046947</td>\n",
              "      <td>0.087002</td>\n",
              "      <td>-0.138292</td>\n",
              "      <td>2.132503</td>\n",
              "      <td>2.278375</td>\n",
              "      <td>1</td>\n",
              "    </tr>\n",
              "    <tr>\n",
              "      <th>3</th>\n",
              "      <td>-0.174179</td>\n",
              "      <td>-0.106656</td>\n",
              "      <td>-0.306930</td>\n",
              "      <td>-0.348407</td>\n",
              "      <td>-0.117882</td>\n",
              "      <td>-0.080889</td>\n",
              "      <td>-0.945960</td>\n",
              "      <td>-1.007047</td>\n",
              "      <td>1</td>\n",
              "    </tr>\n",
              "    <tr>\n",
              "      <th>4</th>\n",
              "      <td>-0.082943</td>\n",
              "      <td>-0.000443</td>\n",
              "      <td>-0.475669</td>\n",
              "      <td>0.449613</td>\n",
              "      <td>0.191616</td>\n",
              "      <td>-0.093591</td>\n",
              "      <td>-0.164230</td>\n",
              "      <td>0.281570</td>\n",
              "      <td>1</td>\n",
              "    </tr>\n",
              "    <tr>\n",
              "      <th>...</th>\n",
              "      <td>...</td>\n",
              "      <td>...</td>\n",
              "      <td>...</td>\n",
              "      <td>...</td>\n",
              "      <td>...</td>\n",
              "      <td>...</td>\n",
              "      <td>...</td>\n",
              "      <td>...</td>\n",
              "      <td>...</td>\n",
              "    </tr>\n",
              "    <tr>\n",
              "      <th>21995</th>\n",
              "      <td>1.071132</td>\n",
              "      <td>0.478336</td>\n",
              "      <td>0.040879</td>\n",
              "      <td>-0.258905</td>\n",
              "      <td>1.487316</td>\n",
              "      <td>-0.138609</td>\n",
              "      <td>-0.321212</td>\n",
              "      <td>1.233134</td>\n",
              "      <td>1</td>\n",
              "    </tr>\n",
              "    <tr>\n",
              "      <th>21996</th>\n",
              "      <td>-0.150497</td>\n",
              "      <td>-0.017155</td>\n",
              "      <td>-0.627898</td>\n",
              "      <td>0.652159</td>\n",
              "      <td>0.290115</td>\n",
              "      <td>-0.078479</td>\n",
              "      <td>0.016143</td>\n",
              "      <td>0.319011</td>\n",
              "      <td>1</td>\n",
              "    </tr>\n",
              "    <tr>\n",
              "      <th>21997</th>\n",
              "      <td>-0.363654</td>\n",
              "      <td>-0.219584</td>\n",
              "      <td>-0.261513</td>\n",
              "      <td>0.059847</td>\n",
              "      <td>-0.981859</td>\n",
              "      <td>0.103982</td>\n",
              "      <td>0.002396</td>\n",
              "      <td>-0.808583</td>\n",
              "      <td>1</td>\n",
              "    </tr>\n",
              "    <tr>\n",
              "      <th>21998</th>\n",
              "      <td>-0.321579</td>\n",
              "      <td>-0.064096</td>\n",
              "      <td>-1.168117</td>\n",
              "      <td>1.338770</td>\n",
              "      <td>0.239160</td>\n",
              "      <td>0.044634</td>\n",
              "      <td>-0.110649</td>\n",
              "      <td>0.358026</td>\n",
              "      <td>1</td>\n",
              "    </tr>\n",
              "    <tr>\n",
              "      <th>21999</th>\n",
              "      <td>-0.348345</td>\n",
              "      <td>-0.157861</td>\n",
              "      <td>-0.887717</td>\n",
              "      <td>1.293609</td>\n",
              "      <td>-0.407007</td>\n",
              "      <td>0.095260</td>\n",
              "      <td>0.630172</td>\n",
              "      <td>0.357550</td>\n",
              "      <td>1</td>\n",
              "    </tr>\n",
              "  </tbody>\n",
              "</table>\n",
              "<p>22000 rows × 9 columns</p>\n",
              "</div>"
            ],
            "text/plain": [
              "           PMI1      PMI2      NPR1      NPR2  RadiusOfGyration  \\\n",
              "0     -0.416267 -0.260116  1.345511 -0.602951         -1.931896   \n",
              "1     -0.256620 -0.175355  0.052397 -0.147606         -0.548179   \n",
              "2      0.885918  0.014085  2.078184 -1.046947          0.087002   \n",
              "3     -0.174179 -0.106656 -0.306930 -0.348407         -0.117882   \n",
              "4     -0.082943 -0.000443 -0.475669  0.449613          0.191616   \n",
              "...         ...       ...       ...       ...               ...   \n",
              "21995  1.071132  0.478336  0.040879 -0.258905          1.487316   \n",
              "21996 -0.150497 -0.017155 -0.627898  0.652159          0.290115   \n",
              "21997 -0.363654 -0.219584 -0.261513  0.059847         -0.981859   \n",
              "21998 -0.321579 -0.064096 -1.168117  1.338770          0.239160   \n",
              "21999 -0.348345 -0.157861 -0.887717  1.293609         -0.407007   \n",
              "\n",
              "       InertialShapeFactor  SpherocityIndex       PBF  values  \n",
              "0                 0.585006         0.157481 -1.340883       1  \n",
              "1                -0.046893         0.233452 -0.067527       1  \n",
              "2                -0.138292         2.132503  2.278375       1  \n",
              "3                -0.080889        -0.945960 -1.007047       1  \n",
              "4                -0.093591        -0.164230  0.281570       1  \n",
              "...                    ...              ...       ...     ...  \n",
              "21995            -0.138609        -0.321212  1.233134       1  \n",
              "21996            -0.078479         0.016143  0.319011       1  \n",
              "21997             0.103982         0.002396 -0.808583       1  \n",
              "21998             0.044634        -0.110649  0.358026       1  \n",
              "21999             0.095260         0.630172  0.357550       1  \n",
              "\n",
              "[22000 rows x 9 columns]"
            ]
          },
          "execution_count": 9,
          "metadata": {},
          "output_type": "execute_result"
        }
      ],
      "source": [
        "df"
      ]
    },
    {
      "cell_type": "code",
      "execution_count": 10,
      "metadata": {
        "id": "DQKyqfOArXz0"
      },
      "outputs": [],
      "source": [
        "X = df.drop(['values'], axis=1)"
      ]
    },
    {
      "cell_type": "code",
      "execution_count": 11,
      "metadata": {
        "colab": {
          "base_uri": "https://localhost:8080/",
          "height": 256
        },
        "id": "432oq9U7rdX1",
        "outputId": "4c90bb05-f44c-4dff-cc5a-ebd2d86c480a"
      },
      "outputs": [
        {
          "data": {
            "text/html": [
              "<div>\n",
              "<style scoped>\n",
              "    .dataframe tbody tr th:only-of-type {\n",
              "        vertical-align: middle;\n",
              "    }\n",
              "\n",
              "    .dataframe tbody tr th {\n",
              "        vertical-align: top;\n",
              "    }\n",
              "\n",
              "    .dataframe thead th {\n",
              "        text-align: right;\n",
              "    }\n",
              "</style>\n",
              "<table border=\"1\" class=\"dataframe\">\n",
              "  <thead>\n",
              "    <tr style=\"text-align: right;\">\n",
              "      <th></th>\n",
              "      <th>PMI1</th>\n",
              "      <th>PMI2</th>\n",
              "      <th>NPR1</th>\n",
              "      <th>NPR2</th>\n",
              "      <th>RadiusOfGyration</th>\n",
              "      <th>InertialShapeFactor</th>\n",
              "      <th>SpherocityIndex</th>\n",
              "      <th>PBF</th>\n",
              "    </tr>\n",
              "  </thead>\n",
              "  <tbody>\n",
              "    <tr>\n",
              "      <th>0</th>\n",
              "      <td>-0.416267</td>\n",
              "      <td>-0.260116</td>\n",
              "      <td>1.345511</td>\n",
              "      <td>-0.602951</td>\n",
              "      <td>-1.931896</td>\n",
              "      <td>0.585006</td>\n",
              "      <td>0.157481</td>\n",
              "      <td>-1.340883</td>\n",
              "    </tr>\n",
              "    <tr>\n",
              "      <th>1</th>\n",
              "      <td>-0.256620</td>\n",
              "      <td>-0.175355</td>\n",
              "      <td>0.052397</td>\n",
              "      <td>-0.147606</td>\n",
              "      <td>-0.548179</td>\n",
              "      <td>-0.046893</td>\n",
              "      <td>0.233452</td>\n",
              "      <td>-0.067527</td>\n",
              "    </tr>\n",
              "    <tr>\n",
              "      <th>2</th>\n",
              "      <td>0.885918</td>\n",
              "      <td>0.014085</td>\n",
              "      <td>2.078184</td>\n",
              "      <td>-1.046947</td>\n",
              "      <td>0.087002</td>\n",
              "      <td>-0.138292</td>\n",
              "      <td>2.132503</td>\n",
              "      <td>2.278375</td>\n",
              "    </tr>\n",
              "    <tr>\n",
              "      <th>3</th>\n",
              "      <td>-0.174179</td>\n",
              "      <td>-0.106656</td>\n",
              "      <td>-0.306930</td>\n",
              "      <td>-0.348407</td>\n",
              "      <td>-0.117882</td>\n",
              "      <td>-0.080889</td>\n",
              "      <td>-0.945960</td>\n",
              "      <td>-1.007047</td>\n",
              "    </tr>\n",
              "    <tr>\n",
              "      <th>4</th>\n",
              "      <td>-0.082943</td>\n",
              "      <td>-0.000443</td>\n",
              "      <td>-0.475669</td>\n",
              "      <td>0.449613</td>\n",
              "      <td>0.191616</td>\n",
              "      <td>-0.093591</td>\n",
              "      <td>-0.164230</td>\n",
              "      <td>0.281570</td>\n",
              "    </tr>\n",
              "  </tbody>\n",
              "</table>\n",
              "</div>"
            ],
            "text/plain": [
              "       PMI1      PMI2      NPR1      NPR2  RadiusOfGyration  \\\n",
              "0 -0.416267 -0.260116  1.345511 -0.602951         -1.931896   \n",
              "1 -0.256620 -0.175355  0.052397 -0.147606         -0.548179   \n",
              "2  0.885918  0.014085  2.078184 -1.046947          0.087002   \n",
              "3 -0.174179 -0.106656 -0.306930 -0.348407         -0.117882   \n",
              "4 -0.082943 -0.000443 -0.475669  0.449613          0.191616   \n",
              "\n",
              "   InertialShapeFactor  SpherocityIndex       PBF  \n",
              "0             0.585006         0.157481 -1.340883  \n",
              "1            -0.046893         0.233452 -0.067527  \n",
              "2            -0.138292         2.132503  2.278375  \n",
              "3            -0.080889        -0.945960 -1.007047  \n",
              "4            -0.093591        -0.164230  0.281570  "
            ]
          },
          "execution_count": 11,
          "metadata": {},
          "output_type": "execute_result"
        }
      ],
      "source": [
        "X.head()"
      ]
    },
    {
      "cell_type": "code",
      "execution_count": null,
      "metadata": {
        "colab": {
          "base_uri": "https://localhost:8080/",
          "height": 241
        },
        "id": "elBJNcK3rfzr",
        "outputId": "8b563246-e160-4137-c7db-a6cff6eda917"
      },
      "outputs": [],
      "source": [
        "y.head()"
      ]
    },
    {
      "cell_type": "code",
      "execution_count": null,
      "metadata": {
        "colab": {
          "base_uri": "https://localhost:8080/",
          "height": 566
        },
        "id": "fCMnZ7mtSQDN",
        "outputId": "18656028-b428-4ad1-a981-121a49e2ab75"
      },
      "outputs": [],
      "source": [
        "import pandas as pd\n",
        "import matplotlib.pyplot as plt\n",
        "import seaborn as sns\n",
        "\n",
        "# Count each class and store in a variable\n",
        "class_counts = df['values'].value_counts()\n",
        "\n",
        "# Print the class counts\n",
        "print(class_counts)\n",
        "\n",
        "# Create a countplot\n",
        "plt.figure(figsize=(5, 4))\n",
        "sns.countplot(x=df[\"values\"], palette=\"coolwarm\")\n",
        "plt.title(\"Class Distribution\")\n",
        "plt.xlabel(\"Class\")\n",
        "plt.ylabel(\"Count\")\n",
        "plt.show()\n"
      ]
    },
    {
      "cell_type": "code",
      "execution_count": 14,
      "metadata": {
        "id": "1cazQVyBby-z"
      },
      "outputs": [],
      "source": [
        "X_train, X_test, y_train, y_test = train_test_split(X, y, test_size=0.20, stratify=y, random_state=45)"
      ]
    },
    {
      "cell_type": "code",
      "execution_count": null,
      "metadata": {
        "colab": {
          "base_uri": "https://localhost:8080/",
          "height": 0
        },
        "id": "AeQRntYYKxyo",
        "outputId": "a66d7377-a0e2-4808-e160-1f70043b5f03"
      },
      "outputs": [],
      "source": [
        "X_test.shape"
      ]
    },
    {
      "cell_type": "code",
      "execution_count": null,
      "metadata": {
        "colab": {
          "base_uri": "https://localhost:8080/",
          "height": 0
        },
        "id": "VxLAfW3RuhHV",
        "outputId": "7fcf6752-6b17-4917-e748-32665fea0fbd"
      },
      "outputs": [],
      "source": [
        "X_train.shape"
      ]
    },
    {
      "cell_type": "code",
      "execution_count": null,
      "metadata": {
        "colab": {
          "base_uri": "https://localhost:8080/",
          "height": 0
        },
        "id": "ruHenmRFumDX",
        "outputId": "c1875c5f-9452-4e78-9a55-c13f6e79e012"
      },
      "outputs": [],
      "source": [
        "y_train.shape"
      ]
    },
    {
      "cell_type": "code",
      "execution_count": null,
      "metadata": {
        "colab": {
          "base_uri": "https://localhost:8080/",
          "height": 0
        },
        "id": "TPR0dnjGupG_",
        "outputId": "d07f1a73-ffd9-43c3-ddea-238e9a200886"
      },
      "outputs": [],
      "source": [
        "y_test.shape"
      ]
    },
    {
      "cell_type": "markdown",
      "metadata": {
        "id": "KS99uJ4xOp7V"
      },
      "source": [
        "# **XGBoost with gridcv, stratification and best features with smote**"
      ]
    },
    {
      "cell_type": "code",
      "execution_count": null,
      "metadata": {
        "colab": {
          "base_uri": "https://localhost:8080/",
          "height": 0
        },
        "id": "D5U-iCwmO2a2",
        "outputId": "1b028681-2f64-475a-e19e-4e3ff62f9fcc"
      },
      "outputs": [],
      "source": [
        "pip install xgboost\n"
      ]
    },
    {
      "cell_type": "code",
      "execution_count": 22,
      "metadata": {
        "id": "-7NcfSbLHSTj"
      },
      "outputs": [],
      "source": [
        "import numpy as np\n",
        "import xgboost as xgb\n",
        "import matplotlib.pyplot as plt\n",
        "import seaborn as sns\n",
        "from sklearn.model_selection import GridSearchCV, StratifiedKFold, train_test_split\n",
        "from sklearn.metrics import accuracy_score, classification_report, confusion_matrix, roc_auc_score, roc_curve\n",
        "from sklearn.metrics import f1_score\n"
      ]
    },
    {
      "cell_type": "code",
      "execution_count": null,
      "metadata": {
        "colab": {
          "base_uri": "https://localhost:8080/",
          "height": 0
        },
        "id": "HBn8mQVoHUx5",
        "outputId": "85ce0f9d-74b4-476e-e573-cfe40cc79026"
      },
      "outputs": [],
      "source": [
        "# Define hyperparameter grid\n",
        "param_grid = {\n",
        "    \"n_estimators\": [100, 200, 300],      # Number of boosting rounds\n",
        "    \"learning_rate\": [0.01, 0.1, 0.2],    # Step size shrinkage\n",
        "    \"max_depth\": [3, 5, 7],               # Maximum tree depth\n",
        "    \"min_child_weight\": [1, 3, 5],        # Minimum sum of instance weight\n",
        "    \"subsample\": [0.8, 1.0],              # Fraction of samples used per tree\n",
        "    \"colsample_bytree\": [0.8, 1.0]        # Fraction of features used per tree\n",
        "}\n",
        "\n",
        "# Initialize XGBoost Classifier\n",
        "xgb_model = xgb.XGBClassifier(objective=\"binary:logistic\", eval_metric=\"logloss\", use_label_encoder=False, random_state=42)\n",
        "\n",
        "# Stratified K-Fold Cross-Validation\n",
        "skf = StratifiedKFold(n_splits=5, shuffle=True, random_state=42)\n",
        "\n",
        "# Grid Search with Cross-Validation\n",
        "grid_search = GridSearchCV(xgb_model, param_grid, cv=skf, scoring=\"accuracy\", n_jobs=-1, verbose=1)\n",
        "grid_search.fit(X_train, y_train)\n",
        "\n",
        "# Best parameters\n",
        "print(\"Best Parameters:\", grid_search.best_params_)\n"
      ]
    },
    {
      "cell_type": "code",
      "execution_count": null,
      "metadata": {
        "colab": {
          "base_uri": "https://localhost:8080/",
          "height": 0
        },
        "id": "ny2ZyqktHW8X",
        "outputId": "4ce745d2-8b17-485e-f642-a9140831262d"
      },
      "outputs": [],
      "source": [
        "# Train XGBoost with best hyperparameters\n",
        "best_xgb = xgb.XGBClassifier(**grid_search.best_params_, objective=\"binary:logistic\", eval_metric=\"logloss\", use_label_encoder=False, random_state=42)\n",
        "best_xgb.fit(X_train, y_train)\n",
        "\n",
        "# Make predictions\n",
        "y_pred = best_xgb.predict(X_test)\n",
        "y_pred_proba = best_xgb.predict_proba(X_test)[:, 1]  # For ROC AUC\n"
      ]
    },
    {
      "cell_type": "code",
      "execution_count": null,
      "metadata": {
        "colab": {
          "base_uri": "https://localhost:8080/",
          "height": 0
        },
        "id": "7h8Wep6B4EKL",
        "outputId": "edb8e291-6613-4f72-9334-095954c6dae0"
      },
      "outputs": [],
      "source": [
        "from sklearn.metrics import f1_score\n",
        "# Calculate the F1 score\n",
        "f1 = f1_score(y_test, y_pred)\n",
        "print(f\"F1 Score: {f1:.4f}\")"
      ]
    },
    {
      "cell_type": "code",
      "execution_count": null,
      "metadata": {
        "colab": {
          "base_uri": "https://localhost:8080/",
          "height": 0
        },
        "id": "Ho0NnKTd4REB",
        "outputId": "0a30224f-195e-4490-a68d-879e2aad8bc9"
      },
      "outputs": [],
      "source": [
        "# prompt: cross validation\n",
        "cv_scores = cross_val_score(best_xgb, X_train, y_train, cv=skf, scoring='accuracy') # Example using accuracy\n",
        "\n",
        "print(\"Cross-validation scores:\", cv_scores)\n",
        "print(\"Mean cross-validation score:\", cv_scores.mean())"
      ]
    },
    {
      "cell_type": "code",
      "execution_count": null,
      "metadata": {
        "colab": {
          "base_uri": "https://localhost:8080/",
          "height": 680
        },
        "id": "65VIaeM7HYgd",
        "outputId": "6b6e219c-f111-4af1-bc28-9be4989ada02"
      },
      "outputs": [],
      "source": [
        "# Accuracy Score\n",
        "accuracy = accuracy_score(y_test, y_pred)\n",
        "print(f\"Accuracy: {accuracy:.4f}\")\n",
        "\n",
        "# Classification Report\n",
        "print(\"\\nClassification Report:\\n\", classification_report(y_test, y_pred))\n",
        "\n",
        "# Confusion Matrix\n",
        "cm = confusion_matrix(y_test, y_pred)\n",
        "sns.heatmap(cm, annot=True, fmt=\"d\", cmap=\"Blues\", xticklabels=[\"Class 0\", \"Class 1\"], yticklabels=[\"Class 0\", \"Class 1\"])\n",
        "plt.xlabel(\"Predicted\")\n",
        "plt.ylabel(\"Actual\")\n",
        "plt.title(\"Confusion Matrix\")\n",
        "plt.show()\n"
      ]
    },
    {
      "cell_type": "code",
      "execution_count": null,
      "metadata": {
        "colab": {
          "base_uri": "https://localhost:8080/",
          "height": 564
        },
        "id": "ZI17oRQ9HcGn",
        "outputId": "dfd0f058-3ad0-4b76-eca2-698356f16a99"
      },
      "outputs": [],
      "source": [
        "# Compute ROC curve\n",
        "fpr, tpr, _ = roc_curve(y_test, y_pred_proba)\n",
        "roc_auc = roc_auc_score(y_test, y_pred_proba)\n",
        "\n",
        "# Plot ROC Curve\n",
        "plt.figure(figsize=(8, 6))\n",
        "plt.plot(fpr, tpr, color=\"blue\", label=f\"ROC Curve (AUC = {roc_auc:.2f})\")\n",
        "plt.plot([0, 1], [0, 1], color=\"gray\", linestyle=\"--\")  # Diagonal line\n",
        "plt.xlabel(\"False Positive Rate\")\n",
        "plt.ylabel(\"True Positive Rate\")\n",
        "plt.title(\"ROC Curve\")\n",
        "plt.legend()\n",
        "plt.show()\n"
      ]
    },
    {
      "cell_type": "code",
      "execution_count": null,
      "metadata": {
        "colab": {
          "base_uri": "https://localhost:8080/",
          "height": 0
        },
        "id": "2XCocMbq3hPm",
        "outputId": "be66c10e-c555-4e6c-ac7c-dfe2d621fb58"
      },
      "outputs": [],
      "source": [
        "import joblib\n",
        "joblib.dump(best_xgb, '3-3D_xgb_model.pkl')"
      ]
    },
    {
      "cell_type": "markdown",
      "metadata": {
        "id": "87cePTz1Ozoq"
      },
      "source": [
        "# **Random forest with smote, gridcv, stratification, best features**"
      ]
    },
    {
      "cell_type": "code",
      "execution_count": null,
      "metadata": {
        "colab": {
          "base_uri": "https://localhost:8080/",
          "height": 1254
        },
        "id": "PTWVPxedF0p4",
        "outputId": "5e73b033-d7fd-4d7c-985d-d393e8cd660d"
      },
      "outputs": [],
      "source": [
        "import numpy as np\n",
        "import matplotlib.pyplot as plt\n",
        "import seaborn as sns\n",
        "from sklearn.ensemble import RandomForestClassifier\n",
        "from sklearn.model_selection import GridSearchCV, train_test_split\n",
        "from sklearn.metrics import accuracy_score, classification_report, confusion_matrix, roc_auc_score, roc_curve\n",
        "from sklearn.tree import plot_tree\n",
        "\n",
        "# Define hyperparameter grid\n",
        "param_grid = {\n",
        "    \"n_estimators\": [50, 100, 200],        # Number of trees\n",
        "    \"max_depth\": [10, 20, None],           # Max depth of trees\n",
        "    \"min_samples_split\": [2, 5, 10],       # Min samples to split\n",
        "    \"min_samples_leaf\": [1, 2, 5],         # Min samples per leaf\n",
        "    \"criterion\": [\"gini\", \"entropy\"]       # Splitting criterion\n",
        "}\n",
        "\n",
        "# Initialize Random Forest Classifier\n",
        "rf = RandomForestClassifier(random_state=42)\n",
        "\n",
        "# Grid Search with 5-fold cross-validation\n",
        "grid_search = GridSearchCV(rf, param_grid, cv=5, scoring=\"accuracy\", n_jobs=-1, verbose=1)\n",
        "grid_search.fit(X_train, y_train)\n",
        "\n",
        "# Best parameters\n",
        "print(\"Best Parameters:\", grid_search.best_params_)\n",
        "\n",
        "# Train Random Forest with best hyperparameters\n",
        "best_rf = RandomForestClassifier(**grid_search.best_params_, random_state=42)\n",
        "best_rf.fit(X_train, y_train)\n",
        "\n",
        "# Make predictions\n",
        "y_pred = best_rf.predict(X_test)\n",
        "y_pred_proba = best_rf.predict_proba(X_test)[:, 1]  # For ROC AUC\n",
        "\n",
        "# Accuracy Score\n",
        "accuracy = accuracy_score(y_test, y_pred)\n",
        "print(f\"Accuracy: {accuracy:.4f}\")\n",
        "\n",
        "# Classification Report\n",
        "print(\"\\nClassification Report:\\n\", classification_report(y_test, y_pred))\n",
        "\n",
        "# Confusion Matrix\n",
        "cm = confusion_matrix(y_test, y_pred)\n",
        "sns.heatmap(cm, annot=True, fmt=\"d\", cmap=\"Blues\", xticklabels=[\"Class 0\", \"Class 1\"], yticklabels=[\"Class 0\", \"Class 1\"])\n",
        "plt.xlabel(\"Predicted\")\n",
        "plt.ylabel(\"Actual\")\n",
        "plt.title(\"Confusion Matrix\")\n",
        "plt.show()\n",
        "\n",
        "# Compute ROC curve\n",
        "fpr, tpr, _ = roc_curve(y_test, y_pred_proba)\n",
        "roc_auc = roc_auc_score(y_test, y_pred_proba)\n",
        "\n",
        "# Plot ROC Curve\n",
        "plt.figure(figsize=(8, 6))\n",
        "plt.plot(fpr, tpr, color=\"blue\", label=f\"ROC Curve (AUC = {roc_auc:.2f})\")\n",
        "plt.plot([0, 1], [0, 1], color=\"gray\", linestyle=\"--\")  # Diagonal line\n",
        "plt.xlabel(\"False Positive Rate\")\n",
        "plt.ylabel(\"True Positive Rate\")\n",
        "plt.title(\"ROC Curve\")\n",
        "plt.legend()\n",
        "plt.show()\n"
      ]
    },
    {
      "cell_type": "code",
      "execution_count": null,
      "metadata": {
        "colab": {
          "base_uri": "https://localhost:8080/",
          "height": 0
        },
        "id": "koDUpG7FxdeG",
        "outputId": "44a1a356-524c-411a-9007-b7da24f50b19"
      },
      "outputs": [],
      "source": [
        "from sklearn.model_selection import cross_val_score, StratifiedKFold\n",
        "\n",
        "# Use StratifiedKFold for cross-validation\n",
        "skf = StratifiedKFold(n_splits=5, shuffle=True, random_state=42)  # 5-fold cross-validation\n",
        "cv_scores = cross_val_score(best_rf, X_train, y_train, cv=skf, scoring='accuracy')\n",
        "\n",
        "print(\"Cross-validation scores:\", cv_scores)\n",
        "print(\"Mean cross-validation score:\", cv_scores.mean())\n"
      ]
    },
    {
      "cell_type": "code",
      "execution_count": null,
      "metadata": {
        "colab": {
          "base_uri": "https://localhost:8080/",
          "height": 0
        },
        "id": "7aIFUoltxciW",
        "outputId": "2bf14a8f-6a0a-4558-c9a3-30cc8ee6b919"
      },
      "outputs": [],
      "source": [
        "from sklearn.metrics import f1_score\n",
        "# Calculate the F1 score\n",
        "f1 = f1_score(y_test, y_pred)\n",
        "print(f\"F1 Score: {f1:.4f}\")"
      ]
    },
    {
      "cell_type": "code",
      "execution_count": null,
      "metadata": {
        "colab": {
          "base_uri": "https://localhost:8080/",
          "height": 0
        },
        "id": "Or58oWIg3jIl",
        "outputId": "e5102e18-9457-4eb9-d860-f7f2e4cd8a10"
      },
      "outputs": [],
      "source": [
        "import joblib\n",
        "joblib.dump(best_rf, '3-3D_RF_model.pkl')"
      ]
    }
  ],
  "metadata": {
    "accelerator": "TPU",
    "colab": {
      "gpuType": "V28",
      "provenance": []
    },
    "kernelspec": {
      "display_name": "base",
      "language": "python",
      "name": "python3"
    },
    "language_info": {
      "codemirror_mode": {
        "name": "ipython",
        "version": 3
      },
      "file_extension": ".py",
      "mimetype": "text/x-python",
      "name": "python",
      "nbconvert_exporter": "python",
      "pygments_lexer": "ipython3",
      "version": "3.9.7"
    }
  },
  "nbformat": 4,
  "nbformat_minor": 0
}
