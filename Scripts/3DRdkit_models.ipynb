{
  "cells": [
    {
      "cell_type": "code",
      "execution_count": 12,
      "metadata": {
        "id": "n9A4Iq0a5JEE"
      },
      "outputs": [],
      "source": [
        "import pandas as pd\n",
        "from sklearn.model_selection import train_test_split\n",
        "from sklearn.ensemble import RandomForestClassifier\n",
        "from sklearn.metrics import accuracy_score, precision_score, recall_score, f1_score, roc_auc_score"
      ]
    },
    {
      "cell_type": "code",
      "execution_count": 14,
      "metadata": {
        "id": "ET9QVw9U4rH6"
      },
      "outputs": [],
      "source": [
        "df = pd.read_csv('4.3-RDKit3D_scaled_aug_data.csv')"
      ]
    },
    {
      "cell_type": "code",
      "execution_count": 15,
      "metadata": {
        "id": "lT9bXfd24_NM"
      },
      "outputs": [],
      "source": [
        "X = df.drop('values', axis=1)\n",
        "y = df['values']"
      ]
    },
    {
      "cell_type": "code",
      "execution_count": 16,
      "metadata": {
        "id": "I9JQBec95CSu"
      },
      "outputs": [],
      "source": [
        "X_train, X_test, y_train, y_test = train_test_split(X, y, test_size= 0.2, random_state=42)"
      ]
    },
    {
      "cell_type": "markdown",
      "metadata": {
        "id": "dHHVljv-7aqx"
      },
      "source": [
        "# **ensembl**"
      ]
    },
    {
      "cell_type": "code",
      "execution_count": null,
      "metadata": {
        "colab": {
          "base_uri": "https://localhost:8080/"
        },
        "id": "Ks1rjqCk2351",
        "outputId": "6d98bd0b-d56b-49b4-e4c6-196809c9ca5d"
      },
      "outputs": [],
      "source": [
        "import joblib\n",
        "import numpy as np\n",
        "from sklearn.ensemble import VotingClassifier\n",
        "from sklearn.metrics import accuracy_score, precision_score, recall_score, f1_score, roc_auc_score\n",
        "\n",
        "# Load saved models\n",
        "rf_model = joblib.load(\"3-3DRdkit_RF_model.pkl\")\n",
        "xgb_model = joblib.load(\"3-3DRdkit_xgb_model.pkl\")\n",
        "svm_model = joblib.load(\"3-3DRdkit_svm_model.pkl\")\n",
        "\n",
        "# Create Ensemble Model (Soft Voting)\n",
        "ensemble_model = VotingClassifier(\n",
        "    estimators=[\n",
        "        (\"rf\", rf_model),\n",
        "        (\"xgb\", xgb_model),\n",
        "        (\"svm\", svm_model),\n",
        "    ],\n",
        "    voting=\"soft\"\n",
        ")\n",
        "\n",
        "# Train the ensemble model\n",
        "ensemble_model.fit(X_train, y_train)\n",
        "\n",
        "# Make predictions\n",
        "y_pred_ensemble = ensemble_model.predict(X_test)\n",
        "\n",
        "# Compute evaluation metrics\n",
        "accuracy = accuracy_score(y_test, y_pred_ensemble)\n",
        "precision = precision_score(y_test, y_pred_ensemble)\n",
        "recall = recall_score(y_test, y_pred_ensemble)\n",
        "f1 = f1_score(y_test, y_pred_ensemble)\n",
        "roc_auc = roc_auc_score(y_test, ensemble_model.predict_proba(X_test)[:, 1])  # AUC for probabilities\n",
        "\n",
        "# Print evaluation results\n",
        "print(f\"Ensemble Model Accuracy: {accuracy:.4f}\")\n",
        "print(f\"Precision: {precision:.4f}\")\n",
        "print(f\"Recall: {recall:.4f}\")\n",
        "print(f\"F1-score: {f1:.4f}\")\n",
        "print(f\"ROC AUC: {roc_auc:.4f}\")\n"
      ]
    },
    {
      "cell_type": "markdown",
      "metadata": {
        "id": "xkA7p6MC752P"
      },
      "source": [
        "# **stacking ensembl**"
      ]
    },
    {
      "cell_type": "code",
      "execution_count": null,
      "metadata": {
        "colab": {
          "base_uri": "https://localhost:8080/"
        },
        "id": "D6CnuV8q6sft",
        "outputId": "145ab0a4-2b32-4000-ae88-3492ebb9f5df"
      },
      "outputs": [],
      "source": [
        "import joblib\n",
        "import numpy as np\n",
        "from sklearn.ensemble import StackingClassifier\n",
        "from sklearn.linear_model import LogisticRegression\n",
        "from sklearn.metrics import accuracy_score, precision_score, recall_score, f1_score, roc_auc_score\n",
        "\n",
        "# Load saved models\n",
        "rf_model = joblib.load(\"3-3DRdkit_RF_model.pkl\")\n",
        "xgb_model = joblib.load(\"3-3DRdkit_xgb_model.pkl\")\n",
        "svm_model = joblib.load(\"3-3DRdkit_svm_model.pkl\")\n",
        "\n",
        "# Define base models for stacking\n",
        "base_models = [\n",
        "    (\"rf\", rf_model),\n",
        "    (\"xgb\", xgb_model),\n",
        "    (\"svm\", svm_model)\n",
        "]\n",
        "\n",
        "# Define meta-model (Logistic Regression)\n",
        "meta_model = LogisticRegression()\n",
        "\n",
        "# Create StackingClassifier\n",
        "stacked_model = StackingClassifier(\n",
        "    estimators=base_models,\n",
        "    final_estimator=meta_model,  # Meta-model for final prediction\n",
        "    passthrough=True,  # Pass original features along with base model predictions\n",
        "    cv=5,  # 5-fold cross-validation for robustness\n",
        "    n_jobs=-1\n",
        ")\n",
        "\n",
        "# Train the stacking model\n",
        "stacked_model.fit(X_train, y_train)\n",
        "\n",
        "# Make predictions\n",
        "y_pred_stacked = stacked_model.predict(X_test)\n",
        "\n",
        "# Compute evaluation metrics\n",
        "accuracy = accuracy_score(y_test, y_pred_stacked)\n",
        "precision = precision_score(y_test, y_pred_stacked)\n",
        "recall = recall_score(y_test, y_pred_stacked)\n",
        "f1 = f1_score(y_test, y_pred_stacked)\n",
        "roc_auc = roc_auc_score(y_test, stacked_model.predict_proba(X_test)[:, 1])  # AUC for probabilities\n",
        "\n",
        "# Print evaluation results\n",
        "print(f\"Stacking Ensemble Accuracy: {accuracy:.4f}\")\n",
        "print(f\"Precision: {precision:.4f}\")\n",
        "print(f\"Recall: {recall:.4f}\")\n",
        "print(f\"F1-score: {f1:.4f}\")\n",
        "print(f\"ROC AUC: {roc_auc:.4f}\")\n"
      ]
    },
    {
      "cell_type": "code",
      "execution_count": null,
      "metadata": {
        "colab": {
          "base_uri": "https://localhost:8080/"
        },
        "id": "WFYn6wO_-3sI",
        "outputId": "50986426-5157-42f7-fda9-1a95a479a959"
      },
      "outputs": [],
      "source": [
        "import joblib\n",
        "import numpy as np\n",
        "from sklearn.ensemble import StackingClassifier\n",
        "from sklearn.linear_model import LogisticRegression\n",
        "from sklearn.metrics import accuracy_score, precision_score, recall_score, f1_score, roc_auc_score\n",
        "\n",
        "# Load saved models\n",
        "rf_model = joblib.load(\"3-3DRdkit_RF_model.pkl\")\n",
        "xgb_model = joblib.load(\"3-3DRdkit_xgb_model.pkl\")\n",
        "svm_model = joblib.load(\"3-3DRdkit_svm_model.pkl\")\n",
        "\n",
        "# Define base models for stacking\n",
        "base_models = [\n",
        "    (\"rf\", rf_model),\n",
        "    (\"xgb\", xgb_model),\n",
        "    (\"svm\", svm_model)\n",
        "]\n",
        "\n",
        "# Define meta-model (Logistic Regression)\n",
        "meta_model = RandomForestClassifier(n_estimators=100, random_state=42)\n",
        "\n",
        "# Create StackingClassifier\n",
        "stacked_model = StackingClassifier(\n",
        "    estimators=base_models,\n",
        "    final_estimator=meta_model,  # Meta-model for final prediction\n",
        "    passthrough=True,  # Pass original features along with base model predictions\n",
        "    cv=5,  # 5-fold cross-validation for robustness\n",
        "    n_jobs=-1\n",
        ")\n",
        "\n",
        "# Train the stacking model\n",
        "stacked_model.fit(X_train, y_train)\n",
        "\n",
        "# Make predictions\n",
        "y_pred_stacked = stacked_model.predict(X_test)\n",
        "\n",
        "# Compute evaluation metrics\n",
        "accuracy = accuracy_score(y_test, y_pred_stacked)\n",
        "precision = precision_score(y_test, y_pred_stacked)\n",
        "recall = recall_score(y_test, y_pred_stacked)\n",
        "f1 = f1_score(y_test, y_pred_stacked)\n",
        "roc_auc = roc_auc_score(y_test, stacked_model.predict_proba(X_test)[:, 1])  # AUC for probabilities\n",
        "\n",
        "# Print evaluation results\n",
        "print(f\"Stacking Ensemble Accuracy: {accuracy:.4f}\")\n",
        "print(f\"Precision: {precision:.4f}\")\n",
        "print(f\"Recall: {recall:.4f}\")\n",
        "print(f\"F1-score: {f1:.4f}\")\n",
        "print(f\"ROC AUC: {roc_auc:.4f}\")\n"
      ]
    },
    {
      "cell_type": "code",
      "execution_count": null,
      "metadata": {
        "colab": {
          "base_uri": "https://localhost:8080/"
        },
        "id": "xVtQtm_f-8dd",
        "outputId": "ad235892-53b9-4a82-c27e-74c0778180f6"
      },
      "outputs": [],
      "source": [
        "import joblib\n",
        "import numpy as np\n",
        "from sklearn.ensemble import StackingClassifier\n",
        "from sklearn.linear_model import LogisticRegression\n",
        "from sklearn.metrics import accuracy_score, precision_score, recall_score, f1_score, roc_auc_score\n",
        "\n",
        "# Load saved models\n",
        "rf_model = joblib.load(\"3-3DRdkit_RF_model.pkl\")\n",
        "xgb_model = joblib.load(\"3-3DRdkit_xgb_model.pkl\")\n",
        "svm_model = joblib.load(\"3-3DRdkit_svm_model.pkl\")\n",
        "\n",
        "# Define base models for stacking\n",
        "base_models = [\n",
        "    (\"rf\", rf_model),\n",
        "    (\"xgb\", xgb_model),\n",
        "    (\"svm\", svm_model)\n",
        "]\n",
        "\n",
        "# Use a Neural Network (MLP) as meta-model\n",
        "from sklearn.neural_network import MLPClassifier\n",
        "meta_model = MLPClassifier(hidden_layer_sizes=(64, 32), max_iter=500)\n",
        "\n",
        "# Create StackingClassifier\n",
        "stacked_model = StackingClassifier(\n",
        "    estimators=base_models,\n",
        "    final_estimator=meta_model,  # Meta-model for final prediction\n",
        "    passthrough=True,  # Pass original features along with base model predictions\n",
        "    cv=5,  # 5-fold cross-validation for robustness\n",
        "    n_jobs=-1\n",
        ")\n",
        "\n",
        "# Train the stacking model\n",
        "stacked_model.fit(X_train, y_train)\n",
        "\n",
        "# Make predictions\n",
        "y_pred_stacked = stacked_model.predict(X_test)\n",
        "\n",
        "# Compute evaluation metrics\n",
        "accuracy = accuracy_score(y_test, y_pred_stacked)\n",
        "precision = precision_score(y_test, y_pred_stacked)\n",
        "recall = recall_score(y_test, y_pred_stacked)\n",
        "f1 = f1_score(y_test, y_pred_stacked)\n",
        "roc_auc = roc_auc_score(y_test, stacked_model.predict_proba(X_test)[:, 1])  # AUC for probabilities\n",
        "\n",
        "# Print evaluation results\n",
        "print(f\"Stacking Ensemble Accuracy: {accuracy:.4f}\")\n",
        "print(f\"Precision: {precision:.4f}\")\n",
        "print(f\"Recall: {recall:.4f}\")\n",
        "print(f\"F1-score: {f1:.4f}\")\n",
        "print(f\"ROC AUC: {roc_auc:.4f}\")\n"
      ]
    },
    {
      "cell_type": "code",
      "execution_count": null,
      "metadata": {
        "colab": {
          "base_uri": "https://localhost:8080/"
        },
        "id": "gP8TQdXR_E-b",
        "outputId": "4d64d375-8f2f-43b7-a1ff-ee9505469ff6"
      },
      "outputs": [],
      "source": [
        "import joblib\n",
        "import numpy as np\n",
        "from sklearn.ensemble import StackingClassifier\n",
        "from sklearn.linear_model import LogisticRegression\n",
        "from sklearn.metrics import accuracy_score, precision_score, recall_score, f1_score, roc_auc_score\n",
        "from xgboost import XGBClassifier\n",
        "# Load saved models\n",
        "rf_model = joblib.load(\"3-3DRdkit_RF_model.pkl\")\n",
        "xgb_model = joblib.load(\"3-3DRdkit_xgb_model.pkl\")\n",
        "svm_model = joblib.load(\"3-3DRdkit_svm_model.pkl\")\n",
        "\n",
        "# Define base models for stacking\n",
        "base_models = [\n",
        "    (\"rf\", rf_model),\n",
        "    (\"xgb\", xgb_model),\n",
        "    (\"svm\", svm_model)\n",
        "]\n",
        "\n",
        "# Use XGBoost as meta-model\n",
        "meta_model = XGBClassifier(n_estimators=100, learning_rate=0.05)\n",
        "\n",
        "# Create StackingClassifier\n",
        "stacked_model = StackingClassifier(\n",
        "    estimators=base_models,\n",
        "    final_estimator=meta_model,  # Meta-model for final prediction\n",
        "    passthrough=True,  # Pass original features along with base model predictions\n",
        "    cv=5,  # 5-fold cross-validation for robustness\n",
        "    n_jobs=-1\n",
        ")\n",
        "\n",
        "# Train the stacking model\n",
        "stacked_model.fit(X_train, y_train)\n",
        "\n",
        "# Make predictions\n",
        "y_pred_stacked = stacked_model.predict(X_test)\n",
        "\n",
        "# Compute evaluation metrics\n",
        "accuracy = accuracy_score(y_test, y_pred_stacked)\n",
        "precision = precision_score(y_test, y_pred_stacked)\n",
        "recall = recall_score(y_test, y_pred_stacked)\n",
        "f1 = f1_score(y_test, y_pred_stacked)\n",
        "roc_auc = roc_auc_score(y_test, stacked_model.predict_proba(X_test)[:, 1])  # AUC for probabilities\n",
        "\n",
        "# Print evaluation results\n",
        "print(f\"Stacking Ensemble Accuracy: {accuracy:.4f}\")\n",
        "print(f\"Precision: {precision:.4f}\")\n",
        "print(f\"Recall: {recall:.4f}\")\n",
        "print(f\"F1-score: {f1:.4f}\")\n",
        "print(f\"ROC AUC: {roc_auc:.4f}\")\n"
      ]
    }
  ],
  "metadata": {
    "accelerator": "GPU",
    "colab": {
      "gpuType": "T4",
      "provenance": []
    },
    "kernelspec": {
      "display_name": "Python 3",
      "name": "python3"
    },
    "language_info": {
      "name": "python"
    }
  },
  "nbformat": 4,
  "nbformat_minor": 0
}
